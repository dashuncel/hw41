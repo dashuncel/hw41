{
 "cells": [
  {
   "cell_type": "markdown",
   "metadata": {},
   "source": [
    "ЗАДАЧА 1\n"
   ]
  },
  {
   "cell_type": "code",
   "execution_count": 4,
   "metadata": {},
   "outputs": [],
   "source": [
    "import os\n",
    "import pandas as pd\n",
    "DATA_DIR = \"D:\\\\Netology\\\\Python\\\\works\\\\4.1\\\\names\\\\\"\n",
    "\n",
    "def count_top3(years):\n",
    "    file_list = list(map(lambda year: f'{DATA_DIR}yob{str(year).strip()}.txt', years))\n",
    "    list_ = []\n",
    "    for file in file_list:\n",
    "        if not os.path.exists(file):\n",
    "            continue\n",
    "        data = pd.read_csv(file, names=['Name', 'Gender', 'Count'], index_col=None)\n",
    "        list_.append(data)\n",
    "    \n",
    "    \n",
    "    dframe = pd.concat(list_).groupby('Name').sum().sort_values(by='Count', ascending=False).reset_index()\n",
    "    return list(dframe.head(3)['Name'])\n"
   ]
  },
  {
   "cell_type": "code",
   "execution_count": 5,
   "metadata": {},
   "outputs": [
    {
     "data": {
      "text/plain": [
       "['James', 'John', 'Robert']"
      ]
     },
     "execution_count": 5,
     "metadata": {},
     "output_type": "execute_result"
    }
   ],
   "source": [
    "count_top3([1900, 1950, 2000])"
   ]
  },
  {
   "cell_type": "code",
   "execution_count": 6,
   "metadata": {},
   "outputs": [
    {
     "data": {
      "text/plain": [
       "['John', 'William', 'Mary']"
      ]
     },
     "execution_count": 6,
     "metadata": {},
     "output_type": "execute_result"
    }
   ],
   "source": [
    "count_top3([1880])"
   ]
  },
  {
   "cell_type": "markdown",
   "metadata": {},
   "source": [
    "ЗАДАЧА 2"
   ]
  },
  {
   "cell_type": "code",
   "execution_count": 12,
   "metadata": {},
   "outputs": [],
   "source": [
    "def count_dynamics(years):\n",
    "    file_list = list(map(lambda year: f'{DATA_DIR}yob{str(year).strip()}.txt', years))\n",
    "    list_ = []\n",
    "    for idx, file in enumerate(file_list):\n",
    "        if not os.path.exists(file):\n",
    "            continue\n",
    "        list_.append(pd.read_csv(file, names=['Name', 'Gender', 'Count']))\n",
    "        list_[idx]['Year'] = int(years[idx])\n",
    "        list_[idx]\n",
    "        \n",
    "    frame = pd.concat(list_).groupby(['Gender', 'Year']).sum().reset_index().sort_values(by=['Gender', 'Year'], ascending=True)\n",
    "    \n",
    "    res = dict()\n",
    "    for g in frame['Gender'].unique():\n",
    "        res[g] = frame.loc[frame['Gender'] == g]['Count'].tolist()\n",
    "    return res\n",
    "    \n"
   ]
  },
  {
   "cell_type": "code",
   "execution_count": 13,
   "metadata": {},
   "outputs": [
    {
     "data": {
      "text/plain": [
       "{'F': [299800, 1713151, 1815110], 'M': [150483, 1790549, 1962969]}"
      ]
     },
     "execution_count": 13,
     "metadata": {},
     "output_type": "execute_result"
    }
   ],
   "source": [
    "count_dynamics([1900, 1950, 2000])\n"
   ]
  }
 ],
 "metadata": {
  "kernelspec": {
   "display_name": "Python 3",
   "language": "python",
   "name": "python3"
  },
  "language_info": {
   "codemirror_mode": {
    "name": "ipython",
    "version": 3
   },
   "file_extension": ".py",
   "mimetype": "text/x-python",
   "name": "python",
   "nbconvert_exporter": "python",
   "pygments_lexer": "ipython3",
   "version": "3.6.5"
  }
 },
 "nbformat": 4,
 "nbformat_minor": 2
}
